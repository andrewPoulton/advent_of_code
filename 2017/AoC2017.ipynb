{
 "cells": [
  {
   "cell_type": "code",
   "execution_count": 1,
   "metadata": {},
   "outputs": [],
   "source": [
    "# Python 3.x - Stolen shamelessly from https://github.com/norvig/pytudes\n",
    "import re\n",
    "import numpy as np\n",
    "import math\n",
    "import urllib.request\n",
    "\n",
    "from collections import Counter, defaultdict, namedtuple, deque\n",
    "from functools   import lru_cache\n",
    "from itertools   import permutations, combinations, chain, cycle, product, islice\n",
    "from heapq       import heappop, heappush\n",
    "\n",
    "def Input(day):\n",
    "    \"Open this day's input file.\"\n",
    "    filename = 'inputs/day{}.txt'.format(day)\n",
    "    try:\n",
    "        return open(filename)\n",
    "    except FileNotFoundError:\n",
    "        print(\"Go get it bellend\")\n",
    "    \n",
    "\n",
    "\n",
    "def transpose(matrix): return zip(*matrix)\n",
    "\n",
    "def first(iterable): return next(iter(iterable))\n",
    "\n",
    "def nth(iterable, n, default=None):\n",
    "    \"Returns the nth item of iterable, or a default value\"\n",
    "    return next(islice(iterable, n, None), default)\n",
    "\n",
    "cat = ''.join\n",
    "\n",
    "Ø   = frozenset() # Empty set\n",
    "inf = float('inf')\n",
    "BIG = 10 ** 999\n",
    "\n",
    "def grep(pattern, lines):\n",
    "    \"Print lines that match pattern.\"\n",
    "    for line in lines:\n",
    "        if re.search(pattern, line):\n",
    "            print(line)\n",
    "\n",
    "def groupby(iterable, key=lambda it: it):\n",
    "    \"Return a dic whose keys are key(it) and whose values are all the elements of iterable with that key.\"\n",
    "    dic = defaultdict(list)\n",
    "    for it in iterable:\n",
    "        dic[key(it)].append(it)\n",
    "    return dic\n",
    "\n",
    "def powerset(iterable):\n",
    "    \"Yield all subsets of items.\"\n",
    "    items = list(iterable)\n",
    "    for r in range(len(items)+1):\n",
    "        for c in combinations(items, r):\n",
    "            yield c\n",
    "\n",
    "# 2-D points implemented using (x, y) tuples\n",
    "def X(point): return point[0]\n",
    "def Y(point): return point[1]\n",
    "\n",
    "def neighbors4(point): \n",
    "    \"The four neighbors (without diagonals).\"\n",
    "    x, y = point\n",
    "    return ((x+1, y), (x-1, y), (x, y+1), (x, y-1))\n",
    "\n",
    "def neighbors8(point): \n",
    "    \"The eight neighbors (with diagonals).\"\n",
    "    x, y = point \n",
    "    return ((x+1, y), (x-1, y), (x, y+1), (x, y-1),\n",
    "            (X+1, y+1), (x-1, y-1), (x+1, y-1), (x-1, y+1))\n",
    "\n",
    "def cityblock_distance(p, q=(0, 0)): \n",
    "    \"City block distance between two points.\"\n",
    "    return abs(X(p) - X(q)) + abs(Y(p) - Y(q))\n",
    "\n",
    "def euclidean_distance(p, q=(0, 0)): \n",
    "    \"Euclidean (hypotenuse) distance between two points.\"\n",
    "    return math.hypot(X(p) - X(q), Y(p) - Y(q))\n",
    "\n",
    "def trace1(f):\n",
    "    \"Print a trace of the input and output of a function on one line.\"\n",
    "    def traced_f(*args):\n",
    "        result = f(*args)\n",
    "        print('{}({}) = {}'.format(f.__name__, ', '.join(map(str, args)), result))\n",
    "        return result\n",
    "    return traced_f\n",
    "\n",
    "def astar_search(start, h_func, moves_func):\n",
    "    \"Find a shortest sequence of states from start to a goal state (a state s with h_func(s) == 0).\"\n",
    "    frontier  = [(h_func(start), start)] # A priority queue, ordered by path length, f = g + h\n",
    "    previous  = {start: None}  # start state has no previous state; other states will\n",
    "    path_cost = {start: 0}     # The cost of the best path to a state.\n",
    "    while frontier:\n",
    "        (f, s) = heappop(frontier)\n",
    "        if h_func(s) == 0:\n",
    "            return Path(previous, s)\n",
    "        for s2 in moves_func(s):\n",
    "            new_cost = path_cost[s] + 1\n",
    "            if s2 not in path_cost or new_cost < path_cost[s2]:\n",
    "                heappush(frontier, (new_cost + h_func(s2), s2))\n",
    "                path_cost[s2] = new_cost\n",
    "                previous[s2] = s\n",
    "    return dict(fail=True, front=len(frontier), prev=len(previous))\n",
    "                \n",
    "def Path(previous, s): \n",
    "    \"Return a list of states that lead to state s, according to the previous dict.\"\n",
    "    return ([] if (s is None) else Path(previous, previous[s]) + [s])\n",
    "\n",
    "def flatten(l):\n",
    "    \"Flatten a list of lists\"\n",
    "    return [item for sublist in l for item in sublist]"
   ]
  },
  {
   "cell_type": "markdown",
   "metadata": {},
   "source": [
    "# Day 1:\n",
    "## Part 1 \n",
    "Given a number n, find the sum of digits equal to the next digit, where the final digit's successor is the first (i.e. given 1123441, return 1 + 4 + 1 = 6)\n",
    "## Part 2\n",
    "As above, but instead of sum digits equal to their successor, sum digits equal to their antipode (i.e. the digit m digits away, where 2*m is the length of n."
   ]
  },
  {
   "cell_type": "code",
   "execution_count": 17,
   "metadata": {},
   "outputs": [
    {
     "name": "stdout",
     "output_type": "stream",
     "text": [
      "The part 1 total is: 1393\n",
      "The part 2 total is: 1292\n"
     ]
    }
   ],
   "source": [
    "one = Input(1).read()\n",
    "def skip_sum(skip, one = one):\n",
    "    total = 0\n",
    "    for i in range(len(one)):\n",
    "        try:\n",
    "            total += int(one[i]) if one[i] == one[i + skip] else 0\n",
    "        except IndexError:\n",
    "            comp = (i + skip) % len(one)\n",
    "            total += int(one[i]) if one[i] == one[comp] else 0\n",
    "    return total\n",
    "print('The part 1 total is: {}'.format(skip_sum(1)))\n",
    "print('The part 2 total is: {}'.format(skip_sum(len(one)//2)))"
   ]
  },
  {
   "cell_type": "code",
   "execution_count": 25,
   "metadata": {},
   "outputs": [
    {
     "name": "stdout",
     "output_type": "stream",
     "text": [
      "The part 1 numpy total is: 1393\n",
      "The part 2 numpy total is: 1292\n"
     ]
    }
   ],
   "source": [
    "#A numpy sol\n",
    "try:\n",
    "    ipt = Input('1_np').read()\n",
    "except:\n",
    "    !sed 's/[0-9]/& /g' <inputs/day1.txt >inputs/day1_np.txt\n",
    "    ipt = Input('1_np').read()\n",
    "    \n",
    "def np_skip_sum(skip, ipt = ipt):\n",
    "    x = np.fromstring(ipt.strip(), dtype = int, sep = ' ')\n",
    "    mask = x - np.roll(x, skip)\n",
    "    out = np.dot(x, mask==0)\n",
    "    return out\n",
    "print('The part 1 numpy total is: {}'.format(np_skip_sum(1)))\n",
    "print('The part 2 numpy total is: {}'.format(np_skip_sum(len(ipt)//4))) #The sed command adds a space after every digit"
   ]
  },
  {
   "cell_type": "markdown",
   "metadata": {},
   "source": [
    "# Day 2\n",
    "## Part 1\n",
    "Checksum of spreadsheet\n"
   ]
  },
  {
   "cell_type": "code",
   "execution_count": 5,
   "metadata": {},
   "outputs": [
    {
     "data": {
      "text/plain": [
       "16"
      ]
     },
     "execution_count": 5,
     "metadata": {},
     "output_type": "execute_result"
    }
   ],
   "source": [
    "two = Input(2).read()\n",
    "two\n",
    "len(two.split('\\n')[0].split('\\t'))"
   ]
  },
  {
   "cell_type": "code",
   "execution_count": 8,
   "metadata": {},
   "outputs": [],
   "source": [
    "def get_shape(string):\n",
    "    n = string.split('\\n')\n",
    "    m = n[0].split('\\t')\n",
    "    return (len(n), len(m))"
   ]
  },
  {
   "cell_type": "code",
   "execution_count": 9,
   "metadata": {},
   "outputs": [
    {
     "data": {
      "text/plain": [
       "(16, 16)"
      ]
     },
     "execution_count": 9,
     "metadata": {},
     "output_type": "execute_result"
    }
   ],
   "source": [
    "get_shape(two)"
   ]
  },
  {
   "cell_type": "code",
   "execution_count": 16,
   "metadata": {},
   "outputs": [],
   "source": [
    "two = np.fromstring(two, dtype = int, sep = '\\t').reshape(get_shape(two))"
   ]
  },
  {
   "cell_type": "code",
   "execution_count": 23,
   "metadata": {},
   "outputs": [
    {
     "data": {
      "text/plain": [
       "30994"
      ]
     },
     "execution_count": 23,
     "metadata": {},
     "output_type": "execute_result"
    }
   ],
   "source": [
    "np.sum(np.amax(two, axis =1) - np.amin(two, axis = 1))"
   ]
  },
  {
   "cell_type": "code",
   "execution_count": 29,
   "metadata": {},
   "outputs": [
    {
     "data": {
      "text/plain": [
       "233"
      ]
     },
     "execution_count": 29,
     "metadata": {},
     "output_type": "execute_result"
    }
   ],
   "source": [
    "total = 0\n",
    "for k in range(16):\n",
    "    for i in range(16):\n",
    "        for j in range(i + 1, 16):\n",
    "            if two[k][j] % two[k][i] == 0:\n",
    "                total += two[k][j] // two[k][i]\n",
    "                continue\n",
    "        if two[k][j] % two[k][i] == 0:\n",
    "            continue\n",
    "total            "
   ]
  },
  {
   "cell_type": "markdown",
   "metadata": {},
   "source": [
    "# Day 3\n",
    "## Part 1\n",
    "Manhattan distance in spiral grid"
   ]
  },
  {
   "cell_type": "code",
   "execution_count": 2,
   "metadata": {},
   "outputs": [
    {
     "data": {
      "text/plain": [
       "559"
      ]
     },
     "execution_count": 2,
     "metadata": {},
     "output_type": "execute_result"
    }
   ],
   "source": [
    "i = 312051\n",
    "math.ceil(math.sqrt(i))"
   ]
  },
  {
   "cell_type": "code",
   "execution_count": 3,
   "metadata": {},
   "outputs": [],
   "source": [
    "def find_square(i): \n",
    "    '''return bottom-right coordinate of outer square containing i'''\n",
    "    sq = math.ceil(math.sqrt(i))\n",
    "    sq -= 1 if (sq % 2 == 1) else 0\n",
    "    sq //= 2\n",
    "    return (sq, sq, (2*sq + 1)**2 - i)\n",
    "def _fs(i):\n",
    "    sq = math.ceil(math.sqrt(i))\n",
    "    sq += 1 if (sq % 2 == 0) else 0\n",
    "    return sq**2"
   ]
  },
  {
   "cell_type": "code",
   "execution_count": 4,
   "metadata": {},
   "outputs": [],
   "source": [
    "def walk(start, dist):\n",
    "    '''Coordinate of end after walking dist counterclockwise from start'''\n",
    "    step_size = X(start) + 1 // 2\n",
    "    return X(start) + (dist % step_size)"
   ]
  },
  {
   "cell_type": "code",
   "execution_count": 5,
   "metadata": {},
   "outputs": [
    {
     "data": {
      "text/plain": [
       "430"
      ]
     },
     "execution_count": 5,
     "metadata": {},
     "output_type": "execute_result"
    }
   ],
   "source": [
    "walk(find_square(i), find_square(i)[2])"
   ]
  },
  {
   "cell_type": "markdown",
   "metadata": {},
   "source": [
    "## Part 2"
   ]
  },
  {
   "cell_type": "code",
   "execution_count": 5,
   "metadata": {},
   "outputs": [],
   "source": [
    "y = np.zeros(21**2).reshape(21,21)\n",
    "y[10,10] = 1"
   ]
  },
  {
   "cell_type": "code",
   "execution_count": 2,
   "metadata": {},
   "outputs": [],
   "source": [
    "def sub_(n,m):\n",
    "    return y[n-1:n+2, m-1:m+2]\n",
    "\n",
    "def update_y(n,m):\n",
    "    y[n,m] = np.sum(sub_(n,m))"
   ]
  },
  {
   "cell_type": "code",
   "execution_count": 3,
   "metadata": {},
   "outputs": [
    {
     "data": {
      "text/plain": [
       "array([[ 0.,  0.,  0.],\n",
       "       [ 0.,  0.,  0.],\n",
       "       [ 0.,  0.,  0.]])"
      ]
     },
     "execution_count": 3,
     "metadata": {},
     "output_type": "execute_result"
    }
   ],
   "source": [
    "sqVals = [0]*(21**2)\n",
    "sqVals[0] = 1\n",
    "def sq_val(sq, outer_square):\n",
    "    "
   ]
  },
  {
   "cell_type": "markdown",
   "metadata": {},
   "source": [
    "# Day 4\n",
    "## Part 1\n",
    "Given list of passphrases, find number of passphrases without repeated words"
   ]
  },
  {
   "cell_type": "code",
   "execution_count": 128,
   "metadata": {},
   "outputs": [],
   "source": [
    "four = Input(4).read()"
   ]
  },
  {
   "cell_type": "code",
   "execution_count": 123,
   "metadata": {},
   "outputs": [
    {
     "data": {
      "text/plain": [
       "455"
      ]
     },
     "execution_count": 123,
     "metadata": {},
     "output_type": "execute_result"
    }
   ],
   "source": [
    "#Just count occurance of each word in each passphrase, then count number of passphrases with highest counts equal to 1\n",
    "pt1 = Counter([Counter(line.split()).most_common(1)[0][1] for line in four.split('\\n')])\n",
    "pt1[1]"
   ]
  },
  {
   "cell_type": "code",
   "execution_count": 124,
   "metadata": {},
   "outputs": [
    {
     "data": {
      "text/plain": [
       "(True, False)"
      ]
     },
     "execution_count": 124,
     "metadata": {},
     "output_type": "execute_result"
    }
   ],
   "source": [
    "def is_anagram(word1, word2):\n",
    "    \"\"\"An anagram tester I was going to use but then didn't\"\"\"\n",
    "    if not len(word1) == len(word2):\n",
    "        return False\n",
    "    c1 = Counter(word1)\n",
    "    c2 = Counter(word2)\n",
    "    for k, v in c1.items():\n",
    "        if not (v == c2[k]):\n",
    "            return False\n",
    "    return True\n",
    "is_anagram('hello', 'llohe'), is_anagram('Tuesday', 'Mondays')"
   ]
  },
  {
   "cell_type": "markdown",
   "metadata": {},
   "source": [
    "## Part 2\n",
    "Given same list of passphrases, return number of phrases without anagrams in them (i.e. all words are pairwise _not_ anagrams of each other)"
   ]
  },
  {
   "cell_type": "code",
   "execution_count": 131,
   "metadata": {},
   "outputs": [],
   "source": [
    "pwords = four.split('\\n')"
   ]
  },
  {
   "cell_type": "code",
   "execution_count": 129,
   "metadata": {},
   "outputs": [],
   "source": [
    "def sort_line(line):\n",
    "    return [''.join(sorted(word)) for word in line.split()]"
   ]
  },
  {
   "cell_type": "code",
   "execution_count": 132,
   "metadata": {},
   "outputs": [],
   "source": [
    "sorted_pwords = [sort_line(line) for line in pwords]"
   ]
  },
  {
   "cell_type": "code",
   "execution_count": 135,
   "metadata": {},
   "outputs": [
    {
     "data": {
      "text/plain": [
       "186"
      ]
     },
     "execution_count": 135,
     "metadata": {},
     "output_type": "execute_result"
    }
   ],
   "source": [
    "#After rearranging each word into alphabetical order, can just proceed as above.\n",
    "pt2 = Counter([Counter(line).most_common(1)[0][1] for line in sorted_pwords])\n",
    "pt2[1]"
   ]
  },
  {
   "cell_type": "markdown",
   "metadata": {},
   "source": [
    "# Day 5\n",
    "## Part 1\n",
    "Escape instruction set"
   ]
  },
  {
   "cell_type": "code",
   "execution_count": 32,
   "metadata": {},
   "outputs": [],
   "source": [
    "five = Input(5).read().split('\\n')"
   ]
  },
  {
   "cell_type": "code",
   "execution_count": 38,
   "metadata": {},
   "outputs": [
    {
     "name": "stdout",
     "output_type": "stream",
     "text": [
      "356945\n",
      "356945\n"
     ]
    }
   ],
   "source": [
    "index = 0\n",
    "moves = 0\n",
    "five_copy = [int(l) for l in five]\n",
    "while index > -1:\n",
    "    try:\n",
    "        new_index = index + five_copy[index]\n",
    "    except IndexError:\n",
    "        print(moves)\n",
    "        break\n",
    "    five_copy[index] += 1\n",
    "    index = new_index\n",
    "    moves += 1\n",
    "print(moves)"
   ]
  },
  {
   "cell_type": "markdown",
   "metadata": {},
   "source": [
    "## Part 2\n"
   ]
  },
  {
   "cell_type": "code",
   "execution_count": 42,
   "metadata": {},
   "outputs": [
    {
     "name": "stdout",
     "output_type": "stream",
     "text": [
      " "
     ]
    },
    {
     "data": {
      "text/plain": [
       "28372145"
      ]
     },
     "execution_count": 42,
     "metadata": {},
     "output_type": "execute_result"
    },
    {
     "data": {
      "text/plain": [
       "         3 function calls in 0.000 seconds\n",
       "\n",
       "   Ordered by: internal time\n",
       "\n",
       "   ncalls  tottime  percall  cumtime  percall filename:lineno(function)\n",
       "        1    0.000    0.000    0.000    0.000 {built-in method builtins.exec}\n",
       "        1    0.000    0.000    0.000    0.000 {method 'disable' of '_lsprof.Profiler' objects}\n",
       "        1    0.000    0.000    0.000    0.000 <string>:1(<module>)"
      ]
     },
     "metadata": {},
     "output_type": "display_data"
    }
   ],
   "source": [
    "%prun\n",
    "def func(five = five):\n",
    "    index = 0\n",
    "    moves = 0\n",
    "    five_copy = [int(l) for l in five]\n",
    "    while index > -1:\n",
    "        try:\n",
    "            new_index = index + five_copy[index]\n",
    "        except IndexError:\n",
    "            return moves\n",
    "            break\n",
    "        five_copy[index] += 1 if five_copy[index] < 3 else -1\n",
    "        index = new_index\n",
    "        moves += 1\n",
    "    return moves\n",
    "func(five)"
   ]
  },
  {
   "cell_type": "markdown",
   "metadata": {},
   "source": [
    "# Day 6\n",
    "## Part 1\n",
    "Memory redistribution"
   ]
  },
  {
   "cell_type": "code",
   "execution_count": 28,
   "metadata": {},
   "outputs": [],
   "source": [
    "six = Input(6).read()\n",
    "six_array = [int(s) for s in six.split('\\t')]"
   ]
  },
  {
   "cell_type": "code",
   "execution_count": 4,
   "metadata": {},
   "outputs": [
    {
     "data": {
      "text/plain": [
       "[5, 1, 10, 0, 1, 7, 13, 14, 3, 12, 8, 10, 7, 12, 0, 6]"
      ]
     },
     "execution_count": 4,
     "metadata": {},
     "output_type": "execute_result"
    }
   ],
   "source": [
    "six_array"
   ]
  },
  {
   "cell_type": "code",
   "execution_count": 14,
   "metadata": {},
   "outputs": [],
   "source": [
    "def redist(lst):\n",
    "    l = len(lst)\n",
    "    m = max(lst)\n",
    "    i = lst.index(m)\n",
    "    lst[i] = 0\n",
    "    while m > 0:\n",
    "        i += 1\n",
    "        i %= l\n",
    "        lst[i] += 1\n",
    "        m -= 1\n",
    "    return lst"
   ]
  },
  {
   "cell_type": "code",
   "execution_count": 31,
   "metadata": {},
   "outputs": [
    {
     "name": "stdout",
     "output_type": "stream",
     "text": [
      "5042\n"
     ]
    }
   ],
   "source": [
    "six = Input(6).read()\n",
    "six_array = [int(s) for s in six.split('\\t')]\n",
    "seen_arrays = set()\n",
    "seen_arrays.add('_'.join([str(i) for i in six_array]))\n",
    "steps = 0\n",
    "m = six_array\n",
    "while True:\n",
    "    m = redist(m)\n",
    "    new_array = '_'.join([str(i) for i in m])\n",
    "    steps += 1\n",
    "    if new_array in seen_arrays:\n",
    "        print(steps)\n",
    "        break\n",
    "    else:\n",
    "        seen_arrays.add(new_array)\n",
    "    if steps > 10000:\n",
    "        break"
   ]
  },
  {
   "cell_type": "code",
   "execution_count": 32,
   "metadata": {},
   "outputs": [
    {
     "name": "stdout",
     "output_type": "stream",
     "text": [
      "1086\n"
     ]
    }
   ],
   "source": [
    "six = Input(6).read()\n",
    "six_array = [int(s) for s in six.split('\\t')]\n",
    "seen_arrays = list()\n",
    "seen_arrays.append('_'.join([str(i) for i in six_array]))\n",
    "steps = 0\n",
    "m = six_array\n",
    "while True:\n",
    "    m = redist(m)\n",
    "    new_array = '_'.join([str(i) for i in m])\n",
    "    steps += 1\n",
    "    if new_array in seen_arrays:\n",
    "        print(steps - seen_arrays.index(new_array))\n",
    "        break\n",
    "    else:\n",
    "        seen_arrays.append(new_array)\n",
    "    if steps > 10000:\n",
    "        break"
   ]
  },
  {
   "cell_type": "markdown",
   "metadata": {},
   "source": [
    "# Day 7\n",
    "## Part 1\n",
    "Find base name"
   ]
  },
  {
   "cell_type": "code",
   "execution_count": 2,
   "metadata": {},
   "outputs": [],
   "source": [
    "seven = Input(7).read().split('\\n')"
   ]
  },
  {
   "cell_type": "code",
   "execution_count": 4,
   "metadata": {},
   "outputs": [],
   "source": [
    "names = [s.split()[0] for s in seven]\n",
    "mounted_names = flatten([n.split(', ') for n in [m.split('-> ')[1] for m in seven if re.search('->', m)]])"
   ]
  },
  {
   "cell_type": "code",
   "execution_count": 5,
   "metadata": {},
   "outputs": [
    {
     "data": {
      "text/plain": [
       "'qibuqqg'"
      ]
     },
     "execution_count": 5,
     "metadata": {},
     "output_type": "execute_result"
    }
   ],
   "source": [
    "root = set(names)- set(mounted_names)\n",
    "\n",
    "next(iter(root))"
   ]
  },
  {
   "cell_type": "markdown",
   "metadata": {},
   "source": [
    "## Part 2"
   ]
  },
  {
   "cell_type": "code",
   "execution_count": 6,
   "metadata": {},
   "outputs": [],
   "source": [
    "def weight(program):\n",
    "    line = [l for l in seven if l.startswith(program)][0]\n",
    "    children = get_children(program)\n",
    "    w = int(re.search('\\d+', line).group())\n",
    "    weights = [w]\n",
    "    for child in children:\n",
    "        cw = weight(child)[0]\n",
    "        w += cw\n",
    "        weights.append(cw)\n",
    "    return [w, weights]\n",
    "\n",
    "def get_children(program):\n",
    "    children = []\n",
    "    line = [l for l in seven if l.startswith(program)][0]\n",
    "    if re.search('->', line):\n",
    "        children = line.split('-> ')[1].split(', ')\n",
    "    return children\n",
    "\n",
    "def is_balanced(program):\n",
    "    children = get_children(program)\n",
    "    child_weights = dict(zip(children, [weight(c)[0] for c in children]))\n",
    "    c = Counter(child_weights.values())\n",
    "    if len(c) == 1:\n",
    "        return None\n",
    "    odd_one_out = min(c, key = c.get)\n",
    "    return [k for k,v in child_weights.items() if v == odd_one_out][0]"
   ]
  },
  {
   "cell_type": "code",
   "execution_count": 7,
   "metadata": {},
   "outputs": [
    {
     "name": "stdout",
     "output_type": "stream",
     "text": [
      "qibuqqg is unbalanced\n",
      "Its children are:\n",
      "\toxxhpbs, whose total weight is 114292\n",
      "\ttiekffc, whose total weight is 114292\n",
      "\tnxgtet, whose total weight is 114292\n",
      "\tnidfqb, whose total weight is 114292\n",
      "\tcctmov, whose total weight is 114292\n",
      "\twpwznmz, whose total weight is 114292\n",
      "\tdwggjb, whose total weight is 114299\n",
      "dwggjb is the odd one out\n",
      "\n",
      "\n",
      "dwggjb is unbalanced\n",
      "Its children are:\n",
      "\tikplxqu, whose total weight is 8278\n",
      "\twacoc, whose total weight is 8278\n",
      "\twknuyhc, whose total weight is 8285\n",
      "wknuyhc is the odd one out\n",
      "\n",
      "\n",
      "wknuyhc is unbalanced\n",
      "Its children are:\n",
      "\txznmwt, whose total weight is 1640\n",
      "\tmhbquyl, whose total weight is 1640\n",
      "\talfjsh, whose total weight is 1640\n",
      "\tpxfelm, whose total weight is 1640\n",
      "\tegbzge, whose total weight is 1647\n",
      "egbzge is the odd one out\n",
      "\n",
      "\n",
      "egbzge is balanced. It's own weight is 1086.\n",
      "It should be 1079.\n"
     ]
    }
   ],
   "source": [
    "prog = next(iter(root))\n",
    "\n",
    "while is_balanced(prog):\n",
    "    print('{} is unbalanced'.format(prog))\n",
    "    children = get_children(prog)\n",
    "    print(\"Its children are:\")\n",
    "    for c in children:\n",
    "        print(\"\\t{}, whose total weight is {}\".format(c, weight(c)[0]))\n",
    "    prog = is_balanced(prog)\n",
    "    print('{} is the odd one out'.format(prog))\n",
    "    print('\\n')\n",
    "    \n",
    "child_weights = Counter([weight(c)[0] for c in children])\n",
    "weight_diff = max(child_weights) - min(child_weights)\n",
    "\n",
    "print('{} is balanced. It\\'s own weight is {}.\\nIt should be {}.'\n",
    "      .format(prog, weight(prog)[1][0], weight(prog)[1][0] - weight_diff))"
   ]
  },
  {
   "cell_type": "markdown",
   "metadata": {},
   "source": [
    "# Day 8\n",
    "## Part 1\n",
    "Something something registers"
   ]
  },
  {
   "cell_type": "code",
   "execution_count": 51,
   "metadata": {},
   "outputs": [],
   "source": [
    "eight = Input(8).read().split('\\n')"
   ]
  },
  {
   "cell_type": "code",
   "execution_count": 53,
   "metadata": {},
   "outputs": [],
   "source": [
    "def condition(line):\n",
    "    cond = line.split('if ')[1]\n",
    "    cond = re.sub('([a-z]+)', 'registers[\"\\\\1\"]', cond)\n",
    "    neg = re.search('!', cond)\n",
    "    if neg:\n",
    "        cond = 'not ' + re.sub('!', '=', cond)\n",
    "    \n",
    "    return eval(cond)"
   ]
  },
  {
   "cell_type": "code",
   "execution_count": 57,
   "metadata": {},
   "outputs": [
    {
     "name": "stdout",
     "output_type": "stream",
     "text": [
      "3089\n"
     ]
    }
   ],
   "source": [
    "registers = {l.split()[0]: 0 for l in eight}\n",
    "for line in eight:\n",
    "    if condition(line):\n",
    "        line = line.split()\n",
    "        reg = line[0]\n",
    "        instr = line[1]\n",
    "        incr = int(line[2])\n",
    "        if instr == 'inc':\n",
    "            registers[reg] += incr\n",
    "        else:\n",
    "            registers[reg] -= incr\n",
    "print(max(registers.values()))"
   ]
  },
  {
   "cell_type": "markdown",
   "metadata": {},
   "source": [
    "## Part 2"
   ]
  },
  {
   "cell_type": "code",
   "execution_count": 58,
   "metadata": {},
   "outputs": [
    {
     "name": "stdout",
     "output_type": "stream",
     "text": [
      "5391\n"
     ]
    }
   ],
   "source": [
    "registers = {l.split()[0]: 0 for l in eight}\n",
    "max_value = 0\n",
    "for line in eight:\n",
    "    if condition(line):\n",
    "        line = line.split()\n",
    "        reg = line[0]\n",
    "        instr = line[1]\n",
    "        incr = int(line[2])\n",
    "        if instr == 'inc':\n",
    "            registers[reg] += incr\n",
    "        else:\n",
    "            registers[reg] -= incr\n",
    "        m = max(registers.values())\n",
    "        if m > max_value:\n",
    "            max_value = m\n",
    "print(max_value)"
   ]
  },
  {
   "cell_type": "markdown",
   "metadata": {},
   "source": [
    "# Day 9\n",
    "## Part 1\n",
    "Data stream, nested brackets"
   ]
  },
  {
   "cell_type": "code",
   "execution_count": 62,
   "metadata": {},
   "outputs": [],
   "source": [
    "nine = Input(9).read()"
   ]
  },
  {
   "cell_type": "code",
   "execution_count": 63,
   "metadata": {},
   "outputs": [
    {
     "name": "stdout",
     "output_type": "stream",
     "text": [
      "16869\n"
     ]
    }
   ],
   "source": [
    "open_groups = 0\n",
    "current_group_score = 0\n",
    "current_score = 0\n",
    "is_garbage = False\n",
    "iter_nine = iter(nine)\n",
    "for char in iter_nine:\n",
    "    if char == '!':\n",
    "        next(islice(iter_nine,0,1))\n",
    "        continue\n",
    "    if char == '<':\n",
    "        is_garbage = True\n",
    "    if char == '>':\n",
    "        is_garbage = False\n",
    "    if not is_garbage:\n",
    "        if char == '{':\n",
    "            open_groups += 1\n",
    "            current_group_score +=1\n",
    "        if char == '}':\n",
    "            current_score += current_group_score\n",
    "            open_groups -= 1\n",
    "            current_group_score -= 1\n",
    "print(current_score)"
   ]
  },
  {
   "cell_type": "markdown",
   "metadata": {},
   "source": [
    "## Part 2"
   ]
  },
  {
   "cell_type": "code",
   "execution_count": 60,
   "metadata": {},
   "outputs": [
    {
     "name": "stdout",
     "output_type": "stream",
     "text": [
      "7284\n"
     ]
    }
   ],
   "source": [
    "current_score = 0\n",
    "is_garbage = False\n",
    "iter_nine = iter(nine)\n",
    "for char in iter_nine:\n",
    "    if char == '!':\n",
    "        next(islice(iter_nine,0,1))\n",
    "        continue\n",
    "    if char == '<':\n",
    "        is_garbage = True\n",
    "    if char == '>':\n",
    "        is_garbage = False\n",
    "        current_score -= 1 #Because we counted the opening angle bracket\n",
    "    if is_garbage:\n",
    "        current_score += 1\n",
    "print(current_score)"
   ]
  },
  {
   "cell_type": "markdown",
   "metadata": {},
   "source": [
    "# Day 10\n",
    "## Part 1"
   ]
  },
  {
   "cell_type": "code",
   "execution_count": 28,
   "metadata": {},
   "outputs": [
    {
     "data": {
      "text/plain": [
       "'192,69,168,160,78,1,166,28,0,83,198,2,254,255,41,12'"
      ]
     },
     "execution_count": 28,
     "metadata": {},
     "output_type": "execute_result"
    }
   ],
   "source": [
    "ten = Input(10).read()\n",
    "ten"
   ]
  },
  {
   "cell_type": "code",
   "execution_count": 29,
   "metadata": {},
   "outputs": [],
   "source": [
    "def list_update(index, length, lst):\n",
    "    l = lst.copy()\n",
    "    _len = len(l)\n",
    "    y = None\n",
    "    if index + length > _len:\n",
    "        rot = (index + length) % _len\n",
    "        l = np.roll(l, -rot)\n",
    "        y = l[-length::]\n",
    "        l[-length::] = y[::-1]\n",
    "        l = np.roll(l, rot)\n",
    "    else:\n",
    "        y = l[index:index+length:]\n",
    "        l[index:index+length:] = y[::-1]\n",
    "    return l"
   ]
  },
  {
   "cell_type": "code",
   "execution_count": 30,
   "metadata": {},
   "outputs": [
    {
     "name": "stdout",
     "output_type": "stream",
     "text": [
      "48705\n"
     ]
    }
   ],
   "source": [
    "_list = np.array(np.arange(256))\n",
    "input_lengths = map(lambda x: int(x), ten.split(','))\n",
    "step_size = -1\n",
    "index = 0\n",
    "l = len(_list)\n",
    "for _ in input_lengths:\n",
    "    _list = list_update(index, _, _list)\n",
    "    step_size += 1\n",
    "    index = (index + _ + step_size) % l\n",
    "print(np.prod(_list[:2]))"
   ]
  },
  {
   "cell_type": "markdown",
   "metadata": {},
   "source": [
    "## Part 2"
   ]
  },
  {
   "cell_type": "code",
   "execution_count": 31,
   "metadata": {},
   "outputs": [],
   "source": [
    "def to_ascii(string):\n",
    "    suffix = [17, 31, 73, 47, 23]\n",
    "    out = list(map(lambda x: ord(x), string))\n",
    "    out.extend(suffix)\n",
    "    return out"
   ]
  },
  {
   "cell_type": "code",
   "execution_count": 32,
   "metadata": {},
   "outputs": [],
   "source": [
    "def dense_hash(narray, block_size):\n",
    "    if not len(narray) % block_size == 0:\n",
    "        return 'Block_size must evenly divide array length'\n",
    "    rows, cols = [len(narray) // block_size ,block_size]\n",
    "    out = narray.reshape(rows, cols)\n",
    "    return np.bitwise_xor.reduce(out, axis = 1)"
   ]
  },
  {
   "cell_type": "code",
   "execution_count": 33,
   "metadata": {},
   "outputs": [
    {
     "name": "stdout",
     "output_type": "stream",
     "text": [
      "1c46642b6f2bc21db2a2149d0aeeae5d\n"
     ]
    }
   ],
   "source": [
    "_list = np.array(np.arange(256))\n",
    "input_lengths = to_ascii(ten)\n",
    "step_size = -1\n",
    "index = 0\n",
    "l = len(_list)\n",
    "\n",
    "for i in range(64):\n",
    "    for _ in input_lengths:\n",
    "        _list = list_update(index, _, _list)\n",
    "        step_size += 1\n",
    "        index = (index + _ + step_size) % l\n",
    "\n",
    "dense_hash_array = dense_hash(_list, 16)\n",
    "hex_array = np.vectorize(hex)(dense_hash_array)\n",
    "leading_zero = lambda x: x[-2:] if len(x) == 4 else '0' + x[-1]\n",
    "lz = np.vectorize(leading_zero)\n",
    "\n",
    "print(''.join(lz(hex_array)))"
   ]
  },
  {
   "cell_type": "code",
   "execution_count": 35,
   "metadata": {},
   "outputs": [
    {
     "name": "stdout",
     "output_type": "stream",
     "text": [
      "1c46642b6f2bc21db2a2149d0aeeae5d\n"
     ]
    }
   ],
   "source": [
    "def knot_hash(ipt):\n",
    "    _list = np.array(np.arange(256))\n",
    "    input_lengths = to_ascii(ipt)\n",
    "    step_size = -1\n",
    "    index = 0\n",
    "    l = len(_list)\n",
    "\n",
    "    for i in range(64):\n",
    "        for _ in input_lengths:\n",
    "            _list = list_update(index, _, _list)\n",
    "            step_size += 1\n",
    "            index = (index + _ + step_size) % l\n",
    "    dense_hash_array = dense_hash(_list, 16)\n",
    "    hex_array = np.vectorize(hex)(dense_hash_array)\n",
    "    leading_zero = lambda x: x[-2:] if len(x) == 4 else '0' + x[-1]\n",
    "    lz = np.vectorize(leading_zero)\n",
    "    return ''.join(lz(hex_array))\n",
    "print(knot_hash(ten))"
   ]
  },
  {
   "cell_type": "markdown",
   "metadata": {},
   "source": [
    "# Day 11\n",
    "## Part 1\n",
    "Distance in a hex grid"
   ]
  },
  {
   "cell_type": "code",
   "execution_count": 2,
   "metadata": {},
   "outputs": [],
   "source": [
    "eleven = Input(11).read()"
   ]
  },
  {
   "cell_type": "code",
   "execution_count": null,
   "metadata": {},
   "outputs": [],
   "source": [
    "def current_dist(coord):\n",
    "    x = np.sum(coord >= 0)\n",
    "    if x == 1:\n",
    "        return max(np.abs(coord))\n",
    "    else:\n",
    "        return abs(np.sum(coord))"
   ]
  },
  {
   "cell_type": "code",
   "execution_count": 54,
   "metadata": {},
   "outputs": [],
   "source": [
    "steps = Counter(eleven.split(','))\n",
    "directions = dict(zip(['n', 's', 'nw', 'sw', 'se', 'ne'], [np.array(p) for p in permutations([0,1,-1], 2)]))\n",
    "current_coord = np.array((0,0))"
   ]
  },
  {
   "cell_type": "code",
   "execution_count": 55,
   "metadata": {},
   "outputs": [
    {
     "name": "stdout",
     "output_type": "stream",
     "text": [
      "664\n"
     ]
    }
   ],
   "source": [
    "for d, vec in directions.items():\n",
    "    current_coord += vec*steps[d]\n",
    "print(current_dist(current_coord))"
   ]
  },
  {
   "cell_type": "markdown",
   "metadata": {},
   "source": [
    "## Part 2"
   ]
  },
  {
   "cell_type": "code",
   "execution_count": 53,
   "metadata": {},
   "outputs": [
    {
     "name": "stdout",
     "output_type": "stream",
     "text": [
      "1447\n"
     ]
    }
   ],
   "source": [
    "current_coord = np.array((0,0))\n",
    "max_dist = 0\n",
    "for step in eleven.split(','):\n",
    "    current_coord += directions[step]\n",
    "    dist = current_dist(current_coord)\n",
    "    if dist > max_dist:\n",
    "        max_dist = dist\n",
    "print(max_dist)"
   ]
  },
  {
   "cell_type": "markdown",
   "metadata": {},
   "source": [
    "# Day 12\n",
    "## Part 1\n",
    "Programs in a group"
   ]
  },
  {
   "cell_type": "code",
   "execution_count": 3,
   "metadata": {},
   "outputs": [
    {
     "data": {
      "text/plain": [
       "'0 <-> 584, 830\\n1 <-> 415, 531\\n2 <-> 514, 1419\\n3 <-> 3\\n4 <-> 1043\\n5 <-> 440\\n6 <-> 452, 1651, 1861\\n7 <-> 368, 783, 1364\\n8 '"
      ]
     },
     "execution_count": 3,
     "metadata": {},
     "output_type": "execute_result"
    }
   ],
   "source": [
    "twelve = Input(12).read()"
   ]
  },
  {
   "cell_type": "code",
   "execution_count": 4,
   "metadata": {},
   "outputs": [
    {
     "data": {
      "text/plain": [
       "2000"
      ]
     },
     "execution_count": 4,
     "metadata": {},
     "output_type": "execute_result"
    }
   ],
   "source": [
    "list_input = twelve.split('\\n')\n",
    "len(list_input)"
   ]
  },
  {
   "cell_type": "code",
   "execution_count": 18,
   "metadata": {},
   "outputs": [
    {
     "name": "stdout",
     "output_type": "stream",
     "text": [
      "113\n"
     ]
    }
   ],
   "source": [
    "def communicates_with(i):\n",
    "    cw = list_input[i].split(' <-> ')[1].split(', ')\n",
    "    return [int(c) for c in cw]\n",
    "\n",
    "group_0 = set([0])\n",
    "cands = communicates_with(0)\n",
    "while cands:\n",
    "    c = cands.pop()\n",
    "    new_cands = communicates_with(c)\n",
    "    group_0.add(c)\n",
    "    cands.extend([nc for nc in new_cands if nc not in group_0])\n",
    "print(len(group_0))"
   ]
  },
  {
   "cell_type": "markdown",
   "metadata": {},
   "source": [
    "## Part 2"
   ]
  },
  {
   "cell_type": "code",
   "execution_count": 22,
   "metadata": {},
   "outputs": [
    {
     "data": {
      "text/plain": [
       "113"
      ]
     },
     "execution_count": 22,
     "metadata": {},
     "output_type": "execute_result"
    }
   ],
   "source": [
    "def get_group(i):\n",
    "    group_ = set([i])\n",
    "    cands = communicates_with(i)\n",
    "    while cands:\n",
    "        c = cands.pop()\n",
    "        new_cands = communicates_with(c)\n",
    "        group_.add(c)\n",
    "        cands.extend([nc for nc in new_cands if nc not in group_])\n",
    "    return group_\n",
    "len(get_group(1))"
   ]
  },
  {
   "cell_type": "code",
   "execution_count": 38,
   "metadata": {},
   "outputs": [
    {
     "name": "stdout",
     "output_type": "stream",
     "text": [
      "202\n"
     ]
    }
   ],
   "source": [
    "remaining_elts = set(range(len(list_input)))\n",
    "groups = 0\n",
    "while len(remaining_elts) > 0:\n",
    "    x = remaining_elts.pop()\n",
    "    grp_x = get_group(x)\n",
    "    groups += 1\n",
    "    remaining_elts -= grp_x\n",
    "print(groups)"
   ]
  },
  {
   "cell_type": "markdown",
   "metadata": {},
   "source": [
    "# Day 13\n",
    "## Part 1"
   ]
  },
  {
   "cell_type": "code",
   "execution_count": 46,
   "metadata": {},
   "outputs": [],
   "source": [
    "thirteen = Input(13).read().split('\\n')\n"
   ]
  },
  {
   "cell_type": "code",
   "execution_count": 49,
   "metadata": {},
   "outputs": [],
   "source": [
    "def collision(row, delay = 0):\n",
    "    \"Detect if scanner at top of firewall - i.e. if step % 2*(range-1) == 0, calculate severity\"\n",
    "    r = [int(n) for n in row.split(': ')]\n",
    "    scanner_start = 1 + (delay % r[1])\n",
    "    if (r[0] + delay) % (2*r[1] - 2) == 0:\n",
    "        return r[0] * r[1]\n",
    "    else:\n",
    "        return 0"
   ]
  },
  {
   "cell_type": "code",
   "execution_count": 50,
   "metadata": {},
   "outputs": [
    {
     "data": {
      "text/plain": [
       "2"
      ]
     },
     "execution_count": 50,
     "metadata": {},
     "output_type": "execute_result"
    }
   ],
   "source": [
    "sum([collision(row,1 ) for row in thirteen])"
   ]
  },
  {
   "cell_type": "markdown",
   "metadata": {},
   "source": [
    "## Part 2"
   ]
  },
  {
   "cell_type": "code",
   "execution_count": 103,
   "metadata": {},
   "outputs": [
    {
     "data": {
      "text/plain": [
       "[0, 1, 2, 1, 0, 1, 2, 1, 0, 1, 2, 1, 0, 1, 2]"
      ]
     },
     "execution_count": 103,
     "metadata": {},
     "output_type": "execute_result"
    }
   ],
   "source": [
    "def scanner_pos(l, ps):\n",
    "    \"Get position of scanner at of length l at time ps\"\n",
    "    if l == 1:\n",
    "        return 0\n",
    "    x = ps % (2*l - 2)\n",
    "    if x <= (l-1):\n",
    "        return x\n",
    "    else:\n",
    "        return l - 1 - (x % (l-1))\n",
    "[scanner_pos(3,s) for s in range(15)]"
   ]
  },
  {
   "cell_type": "code",
   "execution_count": 131,
   "metadata": {},
   "outputs": [
    {
     "name": "stdout",
     "output_type": "stream",
     "text": [
      "3933124\n",
      "CPU times: user 39 s, sys: 37.3 ms, total: 39 s\n",
      "Wall time: 39 s\n"
     ]
    }
   ],
   "source": [
    "%%time\n",
    "delay = 0\n",
    "initial_ = [[int(n) for n in row.split(': ')] for row in thirteen]\n",
    "#Hella inefficient\n",
    "while 2*delay < 4000000:\n",
    "    pos = list(map(lambda x: scanner_pos(x[1], 2*delay + x[0]), initial_))\n",
    "    if all(pos):\n",
    "        print(2*delay)\n",
    "        break\n",
    "    else:\n",
    "        delay += 1"
   ]
  },
  {
   "cell_type": "code",
   "execution_count": 136,
   "metadata": {},
   "outputs": [
    {
     "name": "stdout",
     "output_type": "stream",
     "text": [
      "3933124\n",
      "CPU times: user 3.63 s, sys: 9.28 ms, total: 3.64 s\n",
      "Wall time: 3.67 s\n"
     ]
    }
   ],
   "source": [
    "%%time\n",
    "delay = 0\n",
    "while 2*delay < 4000000:\n",
    "    skip = False\n",
    "    for _ in initial_:\n",
    "        p = scanner_pos(_[1], 2*delay + _[0])\n",
    "        if p == 0:\n",
    "            skip = True\n",
    "            break\n",
    "    if skip:\n",
    "        delay += 1\n",
    "    else:\n",
    "        print(2*delay)\n",
    "        break"
   ]
  },
  {
   "cell_type": "markdown",
   "metadata": {},
   "source": [
    "# Day 14\n",
    "## Part 1"
   ]
  },
  {
   "cell_type": "code",
   "execution_count": 43,
   "metadata": {},
   "outputs": [
    {
     "data": {
      "text/plain": [
       "('0b11100001111011011010100010101000000110110111111001110010011101101111011000111000011111111010110010100011011010000010100110010010',\n",
       " 'e1eda8a81b7e7276f6387faca3682992')"
      ]
     },
     "execution_count": 43,
     "metadata": {},
     "output_type": "execute_result"
    }
   ],
   "source": [
    "def to_bin(x):\n",
    "    h = knot_hash(x)\n",
    "    pad_bin = lambda b: b[2:] if len(b) == 6 else '0'*(6 - len(b)) + b[2:]\n",
    "    return ''.join(map(pad_bin, [bin(int(x, 16)) for x in h]))\n",
    "# hex(ord('0'))\n",
    "to_bin('a0c2017'), knot_hash('a0c2017')\n",
    "# [to_bin(x) for x in 'a0c2017']"
   ]
  },
  {
   "cell_type": "code",
   "execution_count": 46,
   "metadata": {},
   "outputs": [
    {
     "data": {
      "text/plain": [
       "'1010000011000010000000010111'"
      ]
     },
     "execution_count": 46,
     "metadata": {},
     "output_type": "execute_result"
    }
   ],
   "source": [
    "[bin(int(x, 16)) for x in knot_hash('a0c2017')]\n",
    "pad_bin = lambda b: b[2:] if len(b) == 6 else '0'*(6 - len(b)) + b[2:]\n",
    "''.join(map(pad_bin, [bin(int(x, 16)) for x in 'a0c2017']))"
   ]
  },
  {
   "cell_type": "code",
   "execution_count": 48,
   "metadata": {},
   "outputs": [
    {
     "name": "stdout",
     "output_type": "stream",
     "text": [
      "0b110101\n",
      "0b101010\n",
      "0b101011\n",
      "0b101011\n",
      "0b110100\n",
      "0b110010\n",
      "0b100010\n",
      "0b110101\n"
     ]
    }
   ],
   "source": [
    "x = 'flqrgnkx'\n",
    "for i in range(8):\n",
    "    y = x + '-' + str(i)\n",
    "    h = to_bin(y)\n",
    "    print(h[:8])"
   ]
  },
  {
   "cell_type": "markdown",
   "metadata": {},
   "source": [
    "# Day 15\n",
    "## Part 1"
   ]
  },
  {
   "cell_type": "code",
   "execution_count": 2,
   "metadata": {},
   "outputs": [
    {
     "name": "stdout",
     "output_type": "stream",
     "text": [
      "Generator A starts with 289\n",
      "Generator B starts with 629\n"
     ]
    }
   ],
   "source": [
    "fifteen = Input(15).read()\n",
    "print(fifteen)"
   ]
  },
  {
   "cell_type": "code",
   "execution_count": 3,
   "metadata": {},
   "outputs": [],
   "source": [
    "def gen_A(start):\n",
    "    return (start*16807) % 2147483647\n",
    "\n",
    "def gen_B(start):\n",
    "    return (start*48271) % 2147483647\n",
    "\n",
    "def compare(*args):\n",
    "    x = args[0] ^ args[1]\n",
    "    return x % 2**16\n",
    "compare((1,2))"
   ]
  },
  {
   "cell_type": "code",
   "execution_count": 37,
   "metadata": {},
   "outputs": [
    {
     "name": "stdout",
     "output_type": "stream",
     "text": [
      "638\n"
     ]
    }
   ],
   "source": [
    "A_prev = 289\n",
    "B_prev = 629\n",
    "pair_count = 0\n",
    "for i in range(40000000):\n",
    "    A_prev = gen_A(A_prev)\n",
    "    B_prev = gen_B(B_prev)\n",
    "    if compare(A_prev, B_prev) == 0:\n",
    "        pair_count += 1\n",
    "print(pair_count)"
   ]
  },
  {
   "cell_type": "markdown",
   "metadata": {},
   "source": [
    "## Part 2\n",
    "    "
   ]
  },
  {
   "cell_type": "code",
   "execution_count": 53,
   "metadata": {},
   "outputs": [
    {
     "name": "stdout",
     "output_type": "stream",
     "text": [
      "0\n"
     ]
    }
   ],
   "source": [
    "from queue import Queue\n",
    "A_prev = 289\n",
    "B_prev = 629\n",
    "A_queue = Queue()\n",
    "B_queue = Queue()\n",
    "pair_count = 0\n",
    "for i in range(50):\n",
    "    A_prev = gen_A(A_prev)\n",
    "    B_prev = gen_B(B_prev)\n",
    "    if A_prev % 4 == 0:\n",
    "        A_queue.put(A_prev)\n",
    "    if B_prev % 8 == 0:\n",
    "        B_queue.put(B_prev)\n",
    "    if not (A_queue.empty() or B_queue.empty()):\n",
    "        if compare(A_queue.get(), B_queue.get()) == 0:\n",
    "            pair_count += 1\n",
    "print(pair_count)"
   ]
  },
  {
   "cell_type": "code",
   "execution_count": 54,
   "metadata": {},
   "outputs": [
    {
     "data": {
      "text/plain": [
       "(0, 2)"
      ]
     },
     "execution_count": 54,
     "metadata": {},
     "output_type": "execute_result"
    }
   ],
   "source": [
    "A_queue.qsize(), B_queue.qsize()"
   ]
  },
  {
   "cell_type": "code",
   "execution_count": 81,
   "metadata": {},
   "outputs": [
    {
     "name": "stdout",
     "output_type": "stream",
     "text": [
      "343\n"
     ]
    }
   ],
   "source": [
    "from queue import Queue\n",
    "A_prev = 289\n",
    "B_prev = 629\n",
    "A_queue = Queue()\n",
    "B_queue = Queue()\n",
    "pair_count = 0\n",
    "pairs_seen = 0\n",
    "while pairs_seen <= 5000000:\n",
    "    A_prev = gen_A(A_prev)\n",
    "    B_prev = gen_B(B_prev)\n",
    "    if A_prev % 4 == 0:\n",
    "        A_queue.put(A_prev)\n",
    "    if B_prev % 8 == 0:\n",
    "        B_queue.put(B_prev)\n",
    "    if not (A_queue.empty() or B_queue.empty()):\n",
    "        pairs_seen += 1\n",
    "        a = A_queue.get()\n",
    "        b = B_queue.get()\n",
    "        #print(a, b)\n",
    "        if compare(a, b) == 0:\n",
    "            #print(a, b, i)\n",
    "            pair_count += 1\n",
    "print(pair_count)"
   ]
  },
  {
   "cell_type": "markdown",
   "metadata": {},
   "source": [
    "# Day 16\n",
    "## Part 1"
   ]
  },
  {
   "cell_type": "code",
   "execution_count": 2,
   "metadata": {},
   "outputs": [],
   "source": [
    "sixteen = Input(16).read()"
   ]
  },
  {
   "cell_type": "code",
   "execution_count": 98,
   "metadata": {},
   "outputs": [],
   "source": [
    "moves = sixteen.split(',')"
   ]
  },
  {
   "cell_type": "code",
   "execution_count": 99,
   "metadata": {},
   "outputs": [
    {
     "name": "stdout",
     "output_type": "stream",
     "text": [
      "dcmlhejnifpokgba\n"
     ]
    }
   ],
   "source": [
    "posns = 'a b c d e f g h i j k l m n o p'.split()\n",
    "l = len(posns)\n",
    "for move in moves:\n",
    "    m = move[0]\n",
    "    if m == 'x':\n",
    "        inds = [int(c) for c in move[1:].split('/')]\n",
    "        posns[inds[0]], posns[inds[1]] = [posns[x] for x in inds[::-1]]\n",
    "    elif m == 's':\n",
    "        slc = int(move[1:])\n",
    "        posns = posns[-slc:] + posns[:l-slc]\n",
    "    else:\n",
    "        inds = [posns.index(p) for p in move[1:].split('/')]\n",
    "        posns[inds[0]], posns[inds[1]] = [posns[x] for x in inds[::-1]]\n",
    "        \n",
    "print(''.join(posns))"
   ]
  },
  {
   "cell_type": "markdown",
   "metadata": {},
   "source": [
    "## Part 2"
   ]
  },
  {
   "cell_type": "code",
   "execution_count": 100,
   "metadata": {},
   "outputs": [
    {
     "name": "stdout",
     "output_type": "stream",
     "text": [
      "Order is 24.\n",
      "Only need to check the arrangement after 16 rounds.\n"
     ]
    }
   ],
   "source": [
    "posns = 'a b c d e f g h i j k l m n o p'.split()\n",
    "#posns = 'a b c d e'.split()\n",
    "l = len(posns)\n",
    "for _ in range(500):\n",
    "    for move in moves:\n",
    "    #     print(move)\n",
    "        m = move[0]\n",
    "        if m == 'x':\n",
    "            inds = [int(c) for c in move[1:].split('/')]\n",
    "            posns[inds[0]], posns[inds[1]] = [posns[x] for x in inds[::-1]]\n",
    "        elif m == 's':\n",
    "            slc = int(move[1:])\n",
    "            posns = posns[-slc:] + posns[:l-slc]\n",
    "        else:\n",
    "            inds = [posns.index(p) for p in move[1:].split('/')]\n",
    "            posns[inds[0]], posns[inds[1]] = [posns[x] for x in inds[::-1]]\n",
    "    if ''.join(posns) == 'abcdefghijklmnop':\n",
    "        print('Order is {}.\\nOnly need to check the arrangement after {} rounds.'.format(_ + 1, 10**9 %( _ + 1)))\n",
    "        \n",
    "        break"
   ]
  },
  {
   "cell_type": "code",
   "execution_count": 101,
   "metadata": {},
   "outputs": [
    {
     "name": "stdout",
     "output_type": "stream",
     "text": [
      "ifocbejpdnklamhg\n"
     ]
    }
   ],
   "source": [
    "posns = 'a b c d e f g h i j k l m n o p'.split()\n",
    "l = len(posns)\n",
    "for _ in range(16):\n",
    "    for move in moves:\n",
    "        m = move[0]\n",
    "        if m == 'x':\n",
    "            inds = [int(c) for c in move[1:].split('/')]\n",
    "            posns[inds[0]], posns[inds[1]] = [posns[x] for x in inds[::-1]]\n",
    "        elif m == 's':\n",
    "            slc = int(move[1:])\n",
    "            posns = posns[-slc:] + posns[:l-slc]\n",
    "        else:\n",
    "            inds = [posns.index(p) for p in move[1:].split('/')]\n",
    "            posns[inds[0]], posns[inds[1]] = [posns[x] for x in inds[::-1]]\n",
    "\n",
    "print(''.join(posns))"
   ]
  },
  {
   "cell_type": "markdown",
   "metadata": {},
   "source": [
    "# Day 17\n",
    "## Part 1 and 2"
   ]
  },
  {
   "cell_type": "code",
   "execution_count": 8,
   "metadata": {},
   "outputs": [],
   "source": [
    "def _insert(lst, el, index):\n",
    "    \"Insert el into lst at index\"\n",
    "    return lst[:index] + [el] + lst[index:]"
   ]
  },
  {
   "cell_type": "code",
   "execution_count": 13,
   "metadata": {},
   "outputs": [
    {
     "name": "stdout",
     "output_type": "stream",
     "text": [
      "Part 1 answer is 355.\n",
      "Part 2 answer is 6154117.\n",
      "CPU times: user 7.1 s, sys: 5.72 ms, total: 7.1 s\n",
      "Wall time: 7.11 s\n"
     ]
    }
   ],
   "source": [
    "%%time\n",
    "# from numba import jit\n",
    "# @jit\n",
    "def day17(step_size):\n",
    "    lst = [0]\n",
    "    current_index = 0\n",
    "    ind_1 = []\n",
    "    for i in range(1, 50000000):\n",
    "        current_index = (current_index + step_size + 1) % i\n",
    "        if current_index == 0:\n",
    "            ind_1.append(i)\n",
    "        if i < 2018:\n",
    "            lst = _insert(lst, i, current_index + 1)\n",
    "            p1_index = current_index + 2\n",
    "    print('Part 1 answer is {}.\\nPart 2 answer is {}.'.format(lst[p1_index], ind_1[-1]))\n",
    "\n",
    "day17(314)"
   ]
  },
  {
   "cell_type": "markdown",
   "metadata": {},
   "source": [
    "# Day 18\n",
    "## Part 1"
   ]
  },
  {
   "cell_type": "code",
   "execution_count": 14,
   "metadata": {},
   "outputs": [
    {
     "data": {
      "text/plain": [
       "['set i 31',\n",
       " 'set a 1',\n",
       " 'mul p 17',\n",
       " 'jgz p p',\n",
       " 'mul a 2',\n",
       " 'add i -1',\n",
       " 'jgz i -2',\n",
       " 'add a -1',\n",
       " 'set i 127',\n",
       " 'set p 316',\n",
       " 'mul p 8505',\n",
       " 'mod p a',\n",
       " 'mul p 129749',\n",
       " 'add p 12345',\n",
       " 'mod p a',\n",
       " 'set b p',\n",
       " 'mod b 10000',\n",
       " 'snd b',\n",
       " 'add i -1',\n",
       " 'jgz i -9',\n",
       " 'jgz a 3',\n",
       " 'rcv b',\n",
       " 'jgz b -1',\n",
       " 'set f 0',\n",
       " 'set i 126',\n",
       " 'rcv a',\n",
       " 'rcv b',\n",
       " 'set p a',\n",
       " 'mul p -1',\n",
       " 'add p b',\n",
       " 'jgz p 4',\n",
       " 'snd a',\n",
       " 'set a b',\n",
       " 'jgz 1 3',\n",
       " 'snd b',\n",
       " 'set f 1',\n",
       " 'add i -1',\n",
       " 'jgz i -11',\n",
       " 'snd a',\n",
       " 'jgz f -16',\n",
       " 'jgz a -19']"
      ]
     },
     "execution_count": 14,
     "metadata": {},
     "output_type": "execute_result"
    }
   ],
   "source": [
    "eighteen = Input(18).read().split('\\n')\n",
    "eighteen"
   ]
  },
  {
   "cell_type": "code",
   "execution_count": 37,
   "metadata": {},
   "outputs": [
    {
     "name": "stdout",
     "output_type": "stream",
     "text": [
      "Last played sound had frequency 2951.\n"
     ]
    }
   ],
   "source": [
    "test = Input('xx').read().split('\\n')\n",
    "registers = {ins.split()[1] : 0 for ins in eighteen}\n",
    "j = 0\n",
    "sounds_played = []\n",
    "i = 0\n",
    "while i<10000:\n",
    "    instr = eighteen[j].split()\n",
    "#     print(instr)\n",
    "    if instr[0] == 'set':\n",
    "        try:\n",
    "            registers[instr[1]] = int(instr[2])\n",
    "        except ValueError:\n",
    "            registers[instr[1]] = registers[instr[2]]\n",
    "    elif instr[0] == 'snd':\n",
    "        sounds_played.append(registers[instr[1]])\n",
    "    elif instr[0] == 'add':\n",
    "        try:\n",
    "            registers[instr[1]] += int(instr[2])\n",
    "        except ValueError:\n",
    "            registers[instr[1]] += registers[instr[2]]\n",
    "    elif instr[0] == 'mul':\n",
    "        try:\n",
    "            registers[instr[1]] *= int(instr[2])\n",
    "        except ValueError:\n",
    "            registers[instr[1]] *= registers[instr[2]]\n",
    "    elif instr[0] == 'mod':\n",
    "        try:\n",
    "            registers[instr[1]] %= int(instr[2])\n",
    "        except ValueError:\n",
    "            registers[instr[1]] %= registers[instr[2]]\n",
    "    elif instr[0] == 'jgz':\n",
    "        if registers[instr[1]] > 0:\n",
    "            try:\n",
    "                j += int(instr[2]) - 1 #-1 because we increment j at the end of the loop every time.\n",
    "            except ValueError:\n",
    "                j += registers[instr[2]] - 1\n",
    "    else:\n",
    "        if registers[instr[1]] > 0:\n",
    "            print('Last played sound had frequency {}.'.format(sounds_played[-1]))\n",
    "            break\n",
    "    j += 1\n",
    "    i += 1"
   ]
  },
  {
   "cell_type": "markdown",
   "metadata": {},
   "source": [
    "## Part 2"
   ]
  },
  {
   "cell_type": "code",
   "execution_count": 139,
   "metadata": {},
   "outputs": [],
   "source": [
    "def _step(prog, j, structions = eighteen, sent0 = sent0, sent1 = sent1):\n",
    "    registers = reg0 if prog == 0 else reg1\n",
    "    sent = sent0 if prog == 0 else sent1\n",
    "    rec = sent1 if prog == 0 else sent0\n",
    "    other_reg = reg1 if prog == 0 else reg0\n",
    "    instr = structions[j].split()\n",
    "    \n",
    "    if instr[0] == 'set':\n",
    "        try:\n",
    "            registers[instr[1]] = int(instr[2])\n",
    "        except ValueError:\n",
    "            registers[instr[1]] = registers[instr[2]]\n",
    "    elif instr[0] == 'snd':\n",
    "        sent.append(registers[instr[1]])\n",
    "    elif instr[0] == 'add':\n",
    "        try:\n",
    "            registers[instr[1]] += int(instr[2])\n",
    "        except ValueError:\n",
    "            registers[instr[1]] += registers[instr[2]]\n",
    "    elif instr[0] == 'mul':\n",
    "        try:\n",
    "            registers[instr[1]] *= int(instr[2])\n",
    "        except ValueError:\n",
    "            registers[instr[1]] *= registers[instr[2]]\n",
    "    elif instr[0] == 'mod':\n",
    "        try:\n",
    "            registers[instr[1]] %= int(instr[2])\n",
    "        except ValueError:\n",
    "            registers[instr[1]] %= registers[instr[2]]\n",
    "    elif instr[0] == 'jgz':\n",
    "        if registers[instr[1]] > 0:\n",
    "            try:\n",
    "                j += int(instr[2]) - 1 #-1 because we increment j at the end of the loop every time.\n",
    "            except ValueError:\n",
    "                j += registers[instr[2]] -1\n",
    "    else:\n",
    "        if len(rec) > 0:\n",
    "            registers[instr[1]] = rec[0]\n",
    "            if prog == 0:\n",
    "                sent1 = rec[1:]\n",
    "            else:\n",
    "                sent0 = rec[1:]\n",
    "        else:\n",
    "            return [False, j, instr]\n",
    "    j += 1\n",
    "    return [True, j, instr]"
   ]
  },
  {
   "cell_type": "code",
   "execution_count": 108,
   "metadata": {},
   "outputs": [
    {
     "data": {
      "text/plain": [
       "'rcv a'"
      ]
     },
     "execution_count": 108,
     "metadata": {},
     "output_type": "execute_result"
    }
   ],
   "source": [
    "eighteen[25]"
   ]
  },
  {
   "cell_type": "code",
   "execution_count": 140,
   "metadata": {},
   "outputs": [
    {
     "name": "stdout",
     "output_type": "stream",
     "text": [
      "0 0\n",
      "1 0\n",
      "2 0\n",
      "3 0\n",
      "20 0\n",
      "23 0\n",
      "24 0\n",
      "25 0\n",
      "0\n",
      "0\n",
      "26 0\n",
      "0\n",
      "0\n",
      "27 0\n",
      "28 0\n",
      "29 0\n",
      "30 0\n",
      "31 0\n",
      "32 0\n",
      "33 0\n",
      "34 0\n",
      "35 0\n",
      "36 0\n",
      "37 0\n",
      "26 0\n",
      "0\n",
      "0\n",
      "27 0\n",
      "28 0\n",
      "29 0\n",
      "30 0\n",
      "31 0\n",
      "32 0\n",
      "33 0\n",
      "34 0\n",
      "35 0\n",
      "36 0\n",
      "37 0\n",
      "26 0\n",
      "0\n",
      "0\n",
      "27 0\n",
      "28 0\n",
      "29 0\n",
      "30 0\n",
      "31 0\n",
      "32 0\n",
      "33 0\n",
      "34 0\n",
      "35 0\n",
      "36 0\n",
      "37 0\n",
      "26 0\n",
      "0\n",
      "0\n",
      "27 0\n",
      "28 0\n",
      "29 0\n",
      "30 0\n",
      "31 0\n",
      "32 0\n",
      "33 0\n",
      "34 0\n",
      "35 0\n",
      "36 0\n",
      "37 0\n",
      "26 0\n",
      "0\n",
      "0\n",
      "27 0\n",
      "28 0\n",
      "29 0\n",
      "30 0\n",
      "31 0\n",
      "32 0\n",
      "33 0\n",
      "34 0\n",
      "35 0\n",
      "36 0\n",
      "37 0\n",
      "26 0\n",
      "0\n",
      "0\n",
      "27 0\n",
      "28 0\n",
      "29 0\n",
      "30 0\n",
      "31 0\n",
      "32 0\n",
      "33 0\n",
      "34 0\n",
      "35 0\n",
      "36 0\n",
      "37 0\n",
      "26 0\n",
      "0\n",
      "0\n",
      "27 0\n",
      "28 0\n",
      "29 0\n",
      "30 0\n",
      "31 0\n",
      "32 0\n",
      "33 0\n",
      "34 0\n",
      "35 0\n",
      "36 0\n",
      "37 0\n",
      "26 0\n",
      "0\n",
      "0\n",
      "27 0\n",
      "28 0\n",
      "29 0\n",
      "30 0\n",
      "31 0\n",
      "32 0\n",
      "33 0\n",
      "34 0\n",
      "35 0\n",
      "36 0\n",
      "37 0\n",
      "26 0\n",
      "0\n",
      "0\n",
      "27 0\n",
      "28 0\n",
      "29 0\n",
      "30 0\n",
      "31 0\n",
      "32 0\n",
      "33 0\n",
      "34 0\n",
      "35 0\n",
      "36 0\n",
      "37 0\n",
      "26 0\n",
      "0\n",
      "0\n",
      "27 0\n",
      "28 0\n",
      "29 0\n",
      "30 0\n",
      "31 0\n",
      "32 0\n",
      "33 0\n",
      "34 0\n",
      "35 0\n",
      "36 0\n",
      "37 0\n",
      "26 0\n",
      "0\n",
      "0\n",
      "27 0\n",
      "28 0\n",
      "29 0\n",
      "30 0\n",
      "31 0\n",
      "32 0\n",
      "33 0\n",
      "34 0\n",
      "35 0\n",
      "36 0\n",
      "37 0\n",
      "26 0\n",
      "0\n",
      "0\n",
      "27 0\n",
      "28 0\n",
      "29 0\n",
      "30 0\n",
      "31 0\n",
      "32 0\n",
      "33 0\n",
      "34 0\n",
      "35 0\n"
     ]
    }
   ],
   "source": [
    "i = 0\n",
    "proceed0 = True\n",
    "proceed1 = True\n",
    "reg0 = {ins.split()[1] : 0 for ins in eighteen}\n",
    "reg1 = {ins.split()[1] : 0 for ins in eighteen}\n",
    "reg1['p'] = 1 \n",
    "sent0 = []\n",
    "sent1 = []\n",
    "j0 = 0\n",
    "j1 = 0\n",
    "one_has_sent = 0\n",
    "while i < 150:\n",
    "    pr = False\n",
    "    if not proceed0 and not proceed1:\n",
    "        print('Terminated. Program 1 sent {} values.'.format(one_has_sent))\n",
    "        break\n",
    "    if proceed0 or len(sent1) > 0:\n",
    "        proceed0, j0, instr0 = _step(0, j0)\n",
    "    if proceed1 or len(sent0) > 0:\n",
    "        print(j1, len(sent0))\n",
    "        if eighteen[j1].startswith('snd'):\n",
    "            one_has_sent += 1\n",
    "        if eighteen[j1].startswith('rcv'):\n",
    "            pr = True\n",
    "            print(len(sent0))\n",
    "        proceed1, j1, instr1 = _step(1, j1)\n",
    "        if pr:\n",
    "            print(len(sent0))\n",
    "    i += 1\n",
    "#     print(reg0, sent0, instr0)\n",
    "#     print(reg1, sent1, instr1)\n",
    "    "
   ]
  },
  {
   "cell_type": "code",
   "execution_count": 144,
   "metadata": {},
   "outputs": [
    {
     "data": {
      "text/plain": [
       "([], [], True)"
      ]
     },
     "execution_count": 144,
     "metadata": {},
     "output_type": "execute_result"
    }
   ],
   "source": [
    "one_has_sent\n",
    "sent0, sent1, proceed0"
   ]
  },
  {
   "cell_type": "code",
   "execution_count": 134,
   "metadata": {},
   "outputs": [
    {
     "data": {
      "text/plain": [
       "0"
      ]
     },
     "execution_count": 134,
     "metadata": {},
     "output_type": "execute_result"
    }
   ],
   "source": [
    "j0"
   ]
  },
  {
   "cell_type": "code",
   "execution_count": 57,
   "metadata": {},
   "outputs": [
    {
     "data": {
      "text/plain": [
       "{'1': 0, 'a': 1, 'b': 0, 'f': 0, 'i': 0, 'p': 0}"
      ]
     },
     "execution_count": 57,
     "metadata": {},
     "output_type": "execute_result"
    }
   ],
   "source": [
    "reg0"
   ]
  },
  {
   "cell_type": "code",
   "execution_count": 58,
   "metadata": {},
   "outputs": [
    {
     "data": {
      "text/plain": [
       "[1]"
      ]
     },
     "execution_count": 58,
     "metadata": {},
     "output_type": "execute_result"
    }
   ],
   "source": [
    "sent0"
   ]
  },
  {
   "cell_type": "markdown",
   "metadata": {},
   "source": [
    "# Day 19\n",
    "## Part 1"
   ]
  },
  {
   "cell_type": "code",
   "execution_count": 150,
   "metadata": {},
   "outputs": [
    {
     "data": {
      "text/plain": [
       "Counter({'\\n': 201,\n",
       "         ' ': 24826,\n",
       "         '+': 448,\n",
       "         '-': 7246,\n",
       "         'D': 1,\n",
       "         'E': 1,\n",
       "         'F': 1,\n",
       "         'I': 1,\n",
       "         'J': 1,\n",
       "         'N': 1,\n",
       "         'T': 1,\n",
       "         'V': 1,\n",
       "         'W': 1,\n",
       "         'Z': 1,\n",
       "         '|': 7871})"
      ]
     },
     "execution_count": 150,
     "metadata": {},
     "output_type": "execute_result"
    }
   ],
   "source": [
    "nineteen = Input(19).read()\n",
    "Counter(nineteen)"
   ]
  },
  {
   "cell_type": "code",
   "execution_count": 148,
   "metadata": {},
   "outputs": [],
   "source": [
    "grid = nineteen.split('\\n')"
   ]
  },
  {
   "cell_type": "code",
   "execution_count": 151,
   "metadata": {},
   "outputs": [
    {
     "data": {
      "text/plain": [
       "(13, '|')"
      ]
     },
     "execution_count": 151,
     "metadata": {},
     "output_type": "execute_result"
    }
   ],
   "source": [
    "grid[0].index('|'), grid[0][13]"
   ]
  },
  {
   "cell_type": "code",
   "execution_count": null,
   "metadata": {},
   "outputs": [],
   "source": [
    "def traverse(start):\n",
    "    path_char = grid[0][start]\n",
    "    \n",
    "    "
   ]
  },
  {
   "cell_type": "markdown",
   "metadata": {},
   "source": [
    "# Day 20\n",
    "## Part 1\n",
    "Find particle that stays nearest (Mnhtn) to the origin"
   ]
  },
  {
   "cell_type": "code",
   "execution_count": 160,
   "metadata": {},
   "outputs": [
    {
     "data": {
      "text/plain": [
       "['p=<-717,-4557,2578>, v=<153,21,30>, a=<-8,8,-7>',\n",
       " 'p=<1639,651,-987>, v=<29,-19,129>, a=<-5,0,-6>',\n",
       " 'p=<-10482,-248,-491>, v=<4,10,81>, a=<21,0,-4>',\n",
       " 'p=<-6607,-2542,1338>, v=<-9,52,-106>, a=<14,2,4>',\n",
       " 'p=<-4468,1178,-6474>, v=<146,44,66>, a=<0,-5,9>']"
      ]
     },
     "execution_count": 160,
     "metadata": {},
     "output_type": "execute_result"
    }
   ],
   "source": [
    "twenny = Input(20).read().split('\\n')\n",
    "twenny[:5]"
   ]
  },
  {
   "cell_type": "code",
   "execution_count": 200,
   "metadata": {},
   "outputs": [],
   "source": [
    "twenny[:10], len(twenny)\n",
    "def extract_(line, ix):\n",
    "    line = line.split(', ')[ix]\n",
    "#     print(line)\n",
    "    want = re.search('<(.*)>', line).group(1)\n",
    "    #print(want)\n",
    "    return [int(a) for a in want.split(',')]\n",
    "\n",
    "p, v, a = [np.array([extract_(l, i) for l in twenny]) for i in range(3)]"
   ]
  },
  {
   "cell_type": "code",
   "execution_count": 201,
   "metadata": {},
   "outputs": [
    {
     "name": "stdout",
     "output_type": "stream",
     "text": [
      "344\n"
     ]
    }
   ],
   "source": [
    "_v = np.copy(v)\n",
    "_p = np.copy(p)\n",
    "for _ in range(1000):\n",
    "    _p += _v\n",
    "    _v += a \n",
    "print(np.argmin(np.sum(np.abs(_p), axis = 1)))"
   ]
  },
  {
   "cell_type": "markdown",
   "metadata": {},
   "source": [
    "# Part 2"
   ]
  },
  {
   "cell_type": "code",
   "execution_count": 205,
   "metadata": {},
   "outputs": [
    {
     "data": {
      "text/plain": [
       "2996"
      ]
     },
     "execution_count": 205,
     "metadata": {},
     "output_type": "execute_result"
    }
   ],
   "source": [
    "len(np.unique(_p))"
   ]
  },
  {
   "cell_type": "code",
   "execution_count": null,
   "metadata": {},
   "outputs": [],
   "source": []
  },
  {
   "cell_type": "markdown",
   "metadata": {},
   "source": [
    "# Day 21\n",
    "## Part 1"
   ]
  },
  {
   "cell_type": "code",
   "execution_count": 3,
   "metadata": {},
   "outputs": [],
   "source": [
    "pat = '.#./..#/###'\n",
    "rulez = Input(21).read().split('\\n')"
   ]
  },
  {
   "cell_type": "code",
   "execution_count": 4,
   "metadata": {},
   "outputs": [
    {
     "data": {
      "text/plain": [
       "['../.. => ###/.##/#..', '#./.. => #.#/..#/#..', '##/.. => ###/.#./###']"
      ]
     },
     "execution_count": 4,
     "metadata": {},
     "output_type": "execute_result"
    }
   ],
   "source": [
    "rulez[:3]"
   ]
  },
  {
   "cell_type": "code",
   "execution_count": 10,
   "metadata": {},
   "outputs": [
    {
     "data": {
      "text/plain": [
       "array([['.', '#', '.'],\n",
       "       ['.', '.', '#'],\n",
       "       ['#', '#', '#']],\n",
       "      dtype='<U1')"
      ]
     },
     "execution_count": 10,
     "metadata": {},
     "output_type": "execute_result"
    }
   ],
   "source": [
    "np.array([list(l) for l in pat.split('/')])"
   ]
  },
  {
   "cell_type": "code",
   "execution_count": 6,
   "metadata": {},
   "outputs": [
    {
     "data": {
      "text/plain": [
       "['../.. => ###/.##/#..',\n",
       " '#./.. => #.#/..#/#..',\n",
       " '##/.. => ###/.#./###',\n",
       " '.#/#. => ##./###/...',\n",
       " '##/#. => ##./###/#.#',\n",
       " '##/## => #.#/#.#/###',\n",
       " '.../.../... => #.#./#..#/#.##/#.#.',\n",
       " '#../.../... => #.##/.##./#..#/.###',\n",
       " '.#./.../... => #..#/#.#./.#../#.##',\n",
       " '##./.../... => .#../...#/####/...#',\n",
       " '#.#/.../... => ##.#/..#./...#/###.',\n",
       " '###/.../... => #.#./#..#/####/##..',\n",
       " '.#./#../... => ..##/..##/####/##.#',\n",
       " '##./#../... => #.#./#.../..../##..',\n",
       " '..#/#../... => .#.#/##.#/...#/####',\n",
       " '#.#/#../... => .#../.###/.##./##.#',\n",
       " '.##/#../... => ##../.#.#/#.../..##',\n",
       " '###/#../... => ##.#/##.#/.###/##..',\n",
       " '.../.#./... => ..#./..../##.#/#.#.',\n",
       " '#../.#./... => ..##/.#.#/..#./###.',\n",
       " '.#./.#./... => ...#/.#../.#.#/##..',\n",
       " '##./.#./... => #..#/.###/##../#.#.',\n",
       " '#.#/.#./... => ##.#/..#./.#../#..#',\n",
       " '###/.#./... => #.#./####/#..#/#...',\n",
       " '.#./##./... => ##../##.#/.###/##..',\n",
       " '##./##./... => .#../####/.##./.#..',\n",
       " '..#/##./... => ####/##.#/##.#/###.',\n",
       " '#.#/##./... => .##./#.##/##.#/#...',\n",
       " '.##/##./... => ..../#.##/##.#/##..',\n",
       " '###/##./... => #.../.##./#.#./#...',\n",
       " '.../#.#/... => #..#/..##/#.../#.##',\n",
       " '#../#.#/... => ..##/..#./..#./..##',\n",
       " '.#./#.#/... => ..##/####/####/....',\n",
       " '##./#.#/... => ###./.#../##.#/#.#.',\n",
       " '#.#/#.#/... => .##./#..#/..#./##..',\n",
       " '###/#.#/... => ##.#/..#./#..#/...#',\n",
       " '.../###/... => ..##/.#.#/#.../...#',\n",
       " '#../###/... => ..##/#.##/#.#./..#.',\n",
       " '.#./###/... => ##../..##/.##./...#',\n",
       " '##./###/... => #.#./#.../#.../.##.',\n",
       " '#.#/###/... => ##.#/..##/..##/.###',\n",
       " '###/###/... => ..#./#..#/.#../.##.',\n",
       " '..#/.../#.. => ###./#.#./#.##/#.##',\n",
       " '#.#/.../#.. => ####/.##./#..#/.###',\n",
       " '.##/.../#.. => #.#./..../..../##.#',\n",
       " '###/.../#.. => .#.#/..../.#.#/###.',\n",
       " '.##/#../#.. => ####/#..#/.##./####',\n",
       " '###/#../#.. => ##../.#../..../###.',\n",
       " '..#/.#./#.. => .###/##../#.##/...#',\n",
       " '#.#/.#./#.. => ...#/####/#.../..#.',\n",
       " '.##/.#./#.. => #.../####/.#.#/###.',\n",
       " '###/.#./#.. => ####/..../.#../##..',\n",
       " '.##/##./#.. => ..../###./##../.###',\n",
       " '###/##./#.. => #.../#..#/#..#/###.',\n",
       " '#../..#/#.. => ..../.###/.#../.#.#',\n",
       " '.#./..#/#.. => .#.#/...#/#.#./##..',\n",
       " '##./..#/#.. => .#../##.#/.#../.##.',\n",
       " '#.#/..#/#.. => ##../#.##/.###/#.#.',\n",
       " '.##/..#/#.. => #.#./..../.#.#/..##',\n",
       " '###/..#/#.. => ...#/#.../...#/..#.',\n",
       " '#../#.#/#.. => ##.#/..#./###./.###',\n",
       " '.#./#.#/#.. => ..../##../.#.#/.###',\n",
       " '##./#.#/#.. => ###./#.#./.#../.#.#',\n",
       " '..#/#.#/#.. => ###./..../##.#/#..#',\n",
       " '#.#/#.#/#.. => .#.#/#.##/#.../..#.',\n",
       " '.##/#.#/#.. => .#.#/#.../##../####',\n",
       " '###/#.#/#.. => #.##/..#./..##/....',\n",
       " '#../.##/#.. => .#../.#../...#/#...',\n",
       " '.#./.##/#.. => ##../#..#/###./##.#',\n",
       " '##./.##/#.. => .#.#/#..#/..../#..#',\n",
       " '#.#/.##/#.. => ##.#/..../##../##..',\n",
       " '.##/.##/#.. => #.#./..#./#.../.#..',\n",
       " '###/.##/#.. => #.#./##.#/####/....',\n",
       " '#../###/#.. => ##../#.##/.#../.###',\n",
       " '.#./###/#.. => #.../#.##/..../.#.#',\n",
       " '##./###/#.. => ###./##../.#../..##',\n",
       " '..#/###/#.. => ..#./.#../####/#..#',\n",
       " '#.#/###/#.. => #.##/..#./..#./#.##',\n",
       " '.##/###/#.. => .#../#.../####/#...',\n",
       " '###/###/#.. => #.../..#./..../.##.',\n",
       " '.#./#.#/.#. => .#.#/####/###./....',\n",
       " '##./#.#/.#. => ##.#/###./#.##/#..#',\n",
       " '#.#/#.#/.#. => ####/#.#./..../##..',\n",
       " '###/#.#/.#. => ##.#/##../.###/..##',\n",
       " '.#./###/.#. => .##./...#/##.#/.###',\n",
       " '##./###/.#. => ..##/.#../..#./#...',\n",
       " '#.#/###/.#. => ####/#.../..#./#.#.',\n",
       " '###/###/.#. => #.../.###/..##/.#.#',\n",
       " '#.#/..#/##. => ...#/###./#.#./#.##',\n",
       " '###/..#/##. => ##../..#./###./##..',\n",
       " '.##/#.#/##. => #.../#.#./#.#./#..#',\n",
       " '###/#.#/##. => #.../##.#/#.#./....',\n",
       " '#.#/.##/##. => ...#/#.#./...#/#...',\n",
       " '###/.##/##. => .###/...#/#..#/###.',\n",
       " '.##/###/##. => ###./.##./##.#/#..#',\n",
       " '###/###/##. => #.../##../.###/.#..',\n",
       " '#.#/.../#.# => #.../#..#/...#/#..#',\n",
       " '###/.../#.# => .#../..##/.##./.#.#',\n",
       " '###/#../#.# => ..../.#.#/###./#...',\n",
       " '#.#/.#./#.# => ##.#/.#.#/#.##/...#',\n",
       " '###/.#./#.# => ..../#.../#.../.###',\n",
       " '###/##./#.# => ..##/.##./##.#/##.#',\n",
       " '#.#/#.#/#.# => ..##/.#../..##/..#.',\n",
       " '###/#.#/#.# => ..##/.###/...#/##..',\n",
       " '#.#/###/#.# => ..#./.#.#/.###/####',\n",
       " '###/###/#.# => #.#./##../#.#./##.#',\n",
       " '###/#.#/### => #.#./..##/#.#./#...',\n",
       " '###/###/### => ##../.###/###./#..#']"
      ]
     },
     "execution_count": 6,
     "metadata": {},
     "output_type": "execute_result"
    }
   ],
   "source": [
    "rulez"
   ]
  },
  {
   "cell_type": "markdown",
   "metadata": {},
   "source": [
    "# Day 24\n",
    "## Part 1"
   ]
  },
  {
   "cell_type": "code",
   "execution_count": 2,
   "metadata": {},
   "outputs": [
    {
     "data": {
      "text/plain": [
       "['25/13',\n",
       " '4/43',\n",
       " '42/42',\n",
       " '39/40',\n",
       " '17/18',\n",
       " '30/7',\n",
       " '12/12',\n",
       " '32/28',\n",
       " '9/28',\n",
       " '1/1',\n",
       " '16/7',\n",
       " '47/43',\n",
       " '34/16',\n",
       " '39/36',\n",
       " '6/4',\n",
       " '3/2',\n",
       " '10/49',\n",
       " '46/50',\n",
       " '18/25',\n",
       " '2/23',\n",
       " '3/21',\n",
       " '5/24',\n",
       " '46/26',\n",
       " '50/19',\n",
       " '26/41',\n",
       " '1/50',\n",
       " '47/41',\n",
       " '39/50',\n",
       " '12/14',\n",
       " '11/19',\n",
       " '28/2',\n",
       " '38/47',\n",
       " '5/5',\n",
       " '38/34',\n",
       " '39/39',\n",
       " '17/34',\n",
       " '42/16',\n",
       " '32/23',\n",
       " '13/21',\n",
       " '28/6',\n",
       " '6/20',\n",
       " '1/30',\n",
       " '44/21',\n",
       " '11/28',\n",
       " '14/17',\n",
       " '33/33',\n",
       " '17/43',\n",
       " '31/13',\n",
       " '11/21',\n",
       " '31/39',\n",
       " '0/9',\n",
       " '13/50',\n",
       " '10/14',\n",
       " '16/10',\n",
       " '3/24',\n",
       " '7/0',\n",
       " '50/50']"
      ]
     },
     "execution_count": 2,
     "metadata": {},
     "output_type": "execute_result"
    }
   ],
   "source": [
    "tw4 = Input(24).read().split('\\n')\n",
    "tw4"
   ]
  },
  {
   "cell_type": "code",
   "execution_count": 5,
   "metadata": {},
   "outputs": [
    {
     "data": {
      "text/plain": [
       "['0/9', '7/0']"
      ]
     },
     "execution_count": 5,
     "metadata": {},
     "output_type": "execute_result"
    }
   ],
   "source": [
    "[l for l in tw4 if re.search('(^0)|(/0$)',l)]"
   ]
  },
  {
   "cell_type": "code",
   "execution_count": 14,
   "metadata": {},
   "outputs": [],
   "source": [
    "comps = sorted([sorted([int(a) for a in l.split('/')]) for l in tw4], key = lambda x: x[0])"
   ]
  },
  {
   "cell_type": "code",
   "execution_count": 15,
   "metadata": {},
   "outputs": [
    {
     "data": {
      "text/plain": [
       "[[0, 9],\n",
       " [0, 7],\n",
       " [1, 1],\n",
       " [1, 50],\n",
       " [1, 30],\n",
       " [2, 3],\n",
       " [2, 23],\n",
       " [2, 28],\n",
       " [3, 21],\n",
       " [3, 24],\n",
       " [4, 43],\n",
       " [4, 6],\n",
       " [5, 24],\n",
       " [5, 5],\n",
       " [6, 28],\n",
       " [6, 20],\n",
       " [7, 30],\n",
       " [7, 16],\n",
       " [9, 28],\n",
       " [10, 49],\n",
       " [10, 14],\n",
       " [10, 16],\n",
       " [11, 19],\n",
       " [11, 28],\n",
       " [11, 21],\n",
       " [12, 12],\n",
       " [12, 14],\n",
       " [13, 25],\n",
       " [13, 21],\n",
       " [13, 31],\n",
       " [13, 50],\n",
       " [14, 17],\n",
       " [16, 34],\n",
       " [16, 42],\n",
       " [17, 18],\n",
       " [17, 34],\n",
       " [17, 43],\n",
       " [18, 25],\n",
       " [19, 50],\n",
       " [21, 44],\n",
       " [23, 32],\n",
       " [26, 46],\n",
       " [26, 41],\n",
       " [28, 32],\n",
       " [31, 39],\n",
       " [33, 33],\n",
       " [34, 38],\n",
       " [36, 39],\n",
       " [38, 47],\n",
       " [39, 40],\n",
       " [39, 50],\n",
       " [39, 39],\n",
       " [41, 47],\n",
       " [42, 42],\n",
       " [43, 47],\n",
       " [46, 50],\n",
       " [50, 50]]"
      ]
     },
     "execution_count": 15,
     "metadata": {},
     "output_type": "execute_result"
    }
   ],
   "source": [
    "comps"
   ]
  },
  {
   "cell_type": "code",
   "execution_count": 20,
   "metadata": {},
   "outputs": [],
   "source": [
    "def candidates(comp):\n",
    "    return [c for c in comps if comp[0] in c or comp[1] in c]"
   ]
  },
  {
   "cell_type": "code",
   "execution_count": 22,
   "metadata": {},
   "outputs": [
    {
     "data": {
      "text/plain": [
       "[[[0, 9], [0, 7], [9, 28]],\n",
       " [[0, 9], [0, 7], [7, 30], [7, 16]],\n",
       " [[0, 9], [2, 28], [6, 28], [9, 28], [11, 28], [28, 32]]]"
      ]
     },
     "execution_count": 22,
     "metadata": {},
     "output_type": "execute_result"
    }
   ],
   "source": [
    "[candidates(o) for o in candidates(comps[0])]"
   ]
  },
  {
   "cell_type": "code",
   "execution_count": null,
   "metadata": {},
   "outputs": [],
   "source": []
  }
 ],
 "metadata": {
  "kernelspec": {
   "display_name": "Python 3",
   "language": "python",
   "name": "python3"
  },
  "language_info": {
   "codemirror_mode": {
    "name": "ipython",
    "version": 3
   },
   "file_extension": ".py",
   "mimetype": "text/x-python",
   "name": "python",
   "nbconvert_exporter": "python",
   "pygments_lexer": "ipython3",
   "version": "3.6.1"
  }
 },
 "nbformat": 4,
 "nbformat_minor": 2
}
